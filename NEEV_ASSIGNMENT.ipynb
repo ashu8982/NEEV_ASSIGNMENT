{
 "cells": [
  {
   "cell_type": "code",
   "execution_count": 1,
   "id": "be42545e-2374-47f4-8791-69cba0c64da1",
   "metadata": {
    "tags": []
   },
   "outputs": [
    {
     "name": "stdout",
     "output_type": "stream",
     "text": [
      "PDF content successfully converted to Excel: output.xlsx\n"
     ]
    }
   ],
   "source": [
    "import PyPDF2\n",
    "import openpyxl\n",
    "import platform\n",
    "import subprocess\n",
    "\n",
    "# Specify the input PDF file path\n",
    "pdf_file_path = \"EROLLGEN.pdf\"\n",
    "\n",
    "# Specify the output Excel file path\n",
    "excel_file_path = \"output.xlsx\"\n",
    "\n",
    "# Create a function to extract text from the PDF\n",
    "def extract_text_from_pdf(pdf_file_path):\n",
    "    text = \"\"\n",
    "    pdf_reader = PyPDF2.PdfReader(pdf_file_path)\n",
    "    for page in pdf_reader.pages:\n",
    "        text += page.extract_text()\n",
    "    return text\n",
    "\n",
    "# Extract text from the PDF\n",
    "pdf_text = extract_text_from_pdf(pdf_file_path)\n",
    "\n",
    "# Split the text into rows based on line breaks\n",
    "rows = pdf_text.split(\"\\n\")\n",
    "\n",
    "# Create a new Excel workbook\n",
    "workbook = openpyxl.Workbook()\n",
    "worksheet = workbook.active\n",
    "\n",
    "# Write the rows to the Excel worksheet\n",
    "for row_index, row in enumerate(rows, start=1):\n",
    "    columns = row.split(\"\\t\")  # Assuming tab-separated columns, you can change this delimiter if needed\n",
    "    for col_index, column in enumerate(columns, start=1):\n",
    "        worksheet.cell(row=row_index, column=col_index, value=column)\n",
    "\n",
    "# Save the Excel workbook\n",
    "workbook.save(excel_file_path)\n",
    "\n",
    "# Determine the system platform (Windows, macOS, Linux)\n",
    "system_platform = platform.system()\n",
    "\n",
    "# Open the Excel file with the default associated program\n",
    "if system_platform == \"Windows\":\n",
    "    subprocess.Popen([\"start\", \"excel\", excel_file_path], shell=True)\n",
    "elif system_platform == \"Darwin\":  # macOS\n",
    "    subprocess.Popen([\"open\", excel_file_path])\n",
    "elif system_platform == \"Linux\":\n",
    "    subprocess.Popen([\"xdg-open\", excel_file_path])\n",
    "\n",
    "print(f\"PDF content successfully converted to Excel: {excel_file_path}\")\n"
   ]
  }
 ],
 "metadata": {
  "kernelspec": {
   "display_name": "Python 3 (ipykernel)",
   "language": "python",
   "name": "python3"
  },
  "language_info": {
   "codemirror_mode": {
    "name": "ipython",
    "version": 3
   },
   "file_extension": ".py",
   "mimetype": "text/x-python",
   "name": "python",
   "nbconvert_exporter": "python",
   "pygments_lexer": "ipython3",
   "version": "3.11.4"
  }
 },
 "nbformat": 4,
 "nbformat_minor": 5
}
